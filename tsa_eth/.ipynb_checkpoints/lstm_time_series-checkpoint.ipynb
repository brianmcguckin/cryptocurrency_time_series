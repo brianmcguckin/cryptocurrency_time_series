{
 "cells": [
  {
   "cell_type": "code",
   "execution_count": 1,
   "metadata": {},
   "outputs": [
    {
     "name": "stderr",
     "output_type": "stream",
     "text": [
      "Using TensorFlow backend.\n"
     ]
    }
   ],
   "source": [
    "import datetime as dt\n",
    "import time\n",
    "import warnings\n",
    "warnings.filterwarnings('ignore')\n",
    "\n",
    "import numpy as np\n",
    "import pandas as pd\n",
    "import matplotlib.pyplot as plt\n",
    "import seaborn as sns\n",
    "import scipy\n",
    "from sklearn.preprocessing import MinMaxScaler\n",
    "from sklearn.metrics import mean_squared_error\n",
    "\n",
    "import tensorflow as tf\n",
    "from tensorflow import keras\n",
    "from keras.models import Sequential\n",
    "from keras.layers import Dense, Activation, Dropout, LSTM\n",
    "from keras import optimizers\n",
    "from keras import backend as K"
   ]
  },
  {
   "cell_type": "code",
   "execution_count": 2,
   "metadata": {},
   "outputs": [],
   "source": [
    "# plotting options\n",
    "%matplotlib inline\n",
    "sns.set_style('whitegrid')\n",
    "colors = sns.color_palette('deep', 8)\n",
    "sns.set_palette(colors)\n",
    "figsize1 = (17,6)\n",
    "figsize2 = (17,4)\n",
    "figsize3 = (17,3)\n",
    "dpi=200\n",
    "title_fontsize=16\n",
    "ax_fontsize=12"
   ]
  },
  {
   "cell_type": "code",
   "execution_count": 3,
   "metadata": {},
   "outputs": [],
   "source": [
    "def shift_data(df, n_shifts):\n",
    "    # copy df, shift cols in a new df and concat them\n",
    "    df_shifted = df.copy()\n",
    "    for i in range(n_shifts):\n",
    "        df = pd.concat([df, df_shifted.shift(i+1)], axis=1)\n",
    "        df.dropna(axis=0, inplace=True)\n",
    "    \n",
    "    # rename columns    \n",
    "    cols = list(df.columns)[1:]\n",
    "    for i, col in enumerate(cols):\n",
    "        cols[i] = 'shift_{}'.format(i+1)\n",
    "    cols = [df.columns[0]] + cols\n",
    "    df.columns = cols\n",
    "    return df\n",
    "\n",
    "def shape_data(data):\n",
    "    data = np.array(data).reshape(data.shape[0], data.shape[1], 1)\n",
    "    return data"
   ]
  },
  {
   "cell_type": "code",
   "execution_count": 4,
   "metadata": {},
   "outputs": [],
   "source": [
    "def build_lstm(X, units, activation, optimizer, lr, use_bias):\n",
    "    model = Sequential()\n",
    "    model.add(LSTM(units=units,\n",
    "                   activation=activation,\n",
    "                   use_bias=use_bias,\n",
    "                   input_shape=(X.shape[1], X.shape[2])))\n",
    "    model.add(Dense(1))\n",
    "\n",
    "    model.compile(\n",
    "        loss='mean_squared_error',\n",
    "        metrics=['mse'],\n",
    "        optimizer=optimizer\n",
    "    )\n",
    "    return model\n",
    "\n",
    "def lstm_forecast(model, X, y, window, epochs,\n",
    "                  verbose=0, callbacks=None, monitor=False):\n",
    "    start = 0\n",
    "    stop = window\n",
    "    preds = []\n",
    "    observed = ts.eth_close.values[-(len(X)-window):]\n",
    "    \n",
    "    for i in range(len(y) - window):\n",
    "                \n",
    "        # set train data to window sized chunk\n",
    "        X_train, y_train = X[start:stop], y[start:stop]\n",
    "        # set test data to one step after train data\n",
    "        X_test, y_test = X[stop:stop + 1], y[stop:stop + 1]\n",
    "        \n",
    "        # fit model\n",
    "        start_time = time.time()\n",
    "        model.fit(\n",
    "            X_train,\n",
    "            y_train,\n",
    "            epochs=epochs,\n",
    "            verbose=verbose,\n",
    "            callbacks=callbacks,\n",
    "            validation_split=0.1\n",
    "        )\n",
    "        # make & store prediction, step foreward\n",
    "        yhat = model.predict(X_test)\n",
    "        yhat = scaler.inverse_transform(np.array(yhat[0][0]).reshape(-1,1))\n",
    "        preds.append(yhat)\n",
    "        \n",
    "        # monitor function without model verbosity\n",
    "        if monitor is True:\n",
    "            if start != 0 and start % 100  == 0:\n",
    "                print(\"iteration {} predicted: {} (observed: {}) in {:.2f} seconds\".format(\n",
    "                    start, yhat, observed[start], (time.time()-start_time)))\n",
    "            \n",
    "        start += 1\n",
    "        stop += 1\n",
    "    return preds\n",
    "\n",
    "def lstm_rmse(preds):\n",
    "    rmse = np.sqrt(mean_squared_error(ts.eth_close.values[-len(preds):],\n",
    "                                      np.array(preds).reshape(len(preds),)))\n",
    "    return rmse"
   ]
  },
  {
   "cell_type": "code",
   "execution_count": 5,
   "metadata": {},
   "outputs": [
    {
     "data": {
      "text/html": [
       "<div>\n",
       "<style scoped>\n",
       "    .dataframe tbody tr th:only-of-type {\n",
       "        vertical-align: middle;\n",
       "    }\n",
       "\n",
       "    .dataframe tbody tr th {\n",
       "        vertical-align: top;\n",
       "    }\n",
       "\n",
       "    .dataframe thead th {\n",
       "        text-align: right;\n",
       "    }\n",
       "</style>\n",
       "<table border=\"1\" class=\"dataframe\">\n",
       "  <thead>\n",
       "    <tr style=\"text-align: right;\">\n",
       "      <th></th>\n",
       "      <th>eth_close</th>\n",
       "    </tr>\n",
       "  </thead>\n",
       "  <tbody>\n",
       "    <tr>\n",
       "      <th>2015-08-06</th>\n",
       "      <td>3.00</td>\n",
       "    </tr>\n",
       "    <tr>\n",
       "      <th>2015-08-07</th>\n",
       "      <td>1.20</td>\n",
       "    </tr>\n",
       "    <tr>\n",
       "      <th>2015-08-08</th>\n",
       "      <td>1.20</td>\n",
       "    </tr>\n",
       "    <tr>\n",
       "      <th>2015-08-09</th>\n",
       "      <td>1.20</td>\n",
       "    </tr>\n",
       "    <tr>\n",
       "      <th>2015-08-10</th>\n",
       "      <td>0.99</td>\n",
       "    </tr>\n",
       "  </tbody>\n",
       "</table>\n",
       "</div>"
      ],
      "text/plain": [
       "            eth_close\n",
       "2015-08-06       3.00\n",
       "2015-08-07       1.20\n",
       "2015-08-08       1.20\n",
       "2015-08-09       1.20\n",
       "2015-08-10       0.99"
      ]
     },
     "execution_count": 5,
     "metadata": {},
     "output_type": "execute_result"
    }
   ],
   "source": [
    "raw = pd.read_json('df.json', orient='split')\n",
    "ts = pd.DataFrame(raw.eth_close.copy())\n",
    "ts.head()"
   ]
  },
  {
   "cell_type": "code",
   "execution_count": 6,
   "metadata": {},
   "outputs": [
    {
     "name": "stdout",
     "output_type": "stream",
     "text": [
      "(1173, 1, 1) (1173,)\n"
     ]
    }
   ],
   "source": [
    "scaler = MinMaxScaler(feature_range=(0,1))\n",
    "ts_scaled = scaler.fit_transform(ts.values)\n",
    "ts = pd.DataFrame(ts_scaled).set_index(ts.index.values)\n",
    "ts.columns = ['unshifted']\n",
    "\n",
    "ts = shift_data(ts, n_shifts=1)\n",
    "X = pd.DataFrame(ts.shift_1)\n",
    "X = shape_data(X)\n",
    "y = ts.unshifted\n",
    "\n",
    "print(X.shape, y.shape)"
   ]
  },
  {
   "cell_type": "code",
   "execution_count": 7,
   "metadata": {},
   "outputs": [],
   "source": [
    "def lstm_expanding_window(model, X, y, epochs=500, verbose=0):\n",
    "    \n",
    "    preds = []\n",
    "    observed = ts.unshifted.values[-len(X):]\n",
    "    \n",
    "    early_stopping = keras.callbacks.EarlyStopping(\n",
    "    monitor='val_loss',\n",
    "    min_delta=0,\n",
    "    patience=25,\n",
    "    verbose=0)\n",
    "    \n",
    "    for i in range(len(y)):\n",
    "        X_train, y_train = X[:i], y[:i]\n",
    "        X_test, y_test = X[i:i+1], y[i:i+1]\n",
    "        \n",
    "        start_time = time.time()\n",
    "        model.fit(\n",
    "            X_train,\n",
    "            y_train,\n",
    "            epochs=epochs,\n",
    "            verbose=verbose,\n",
    "            callbacks=[early_stopping],\n",
    "            validation_split=0.1\n",
    "        )\n",
    "        # make & store prediction, step foreward\n",
    "        yhat = model.predict(X_test)\n",
    "        yhat = scaler.inverse_transform(np.array(yhat[0][0]).reshape(-1,1))\n",
    "        preds.append(yhat)\n",
    "    \n",
    "    return preds\n",
    "\n",
    "def lstm_rmse(preds):\n",
    "    rmse = np.sqrt(mean_squared_error(ts.unshifted.values[-len(preds):],\n",
    "                                      np.array(preds).reshape(len(preds),)))\n",
    "    return rmse"
   ]
  },
  {
   "cell_type": "code",
   "execution_count": 8,
   "metadata": {},
   "outputs": [],
   "source": [
    "lstm = build_lstm(\n",
    "    X=X,\n",
    "    optimizer='RMSprop',\n",
    "    lr=0.0001,\n",
    "    activation='tanh',\n",
    "    units=32,\n",
    "    use_bias=True\n",
    ")"
   ]
  },
  {
   "cell_type": "code",
   "execution_count": null,
   "metadata": {},
   "outputs": [],
   "source": []
  }
 ],
 "metadata": {
  "kernelspec": {
   "display_name": "Python 3",
   "language": "python",
   "name": "python3"
  },
  "language_info": {
   "codemirror_mode": {
    "name": "ipython",
    "version": 3
   },
   "file_extension": ".py",
   "mimetype": "text/x-python",
   "name": "python",
   "nbconvert_exporter": "python",
   "pygments_lexer": "ipython3",
   "version": "3.6.6"
  }
 },
 "nbformat": 4,
 "nbformat_minor": 2
}
